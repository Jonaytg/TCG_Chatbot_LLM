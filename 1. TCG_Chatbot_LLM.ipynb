{
 "cells": [
  {
   "cell_type": "markdown",
   "metadata": {
    "id": "IJnBwmAhKyJs"
   },
   "source": [
    "# TCG Chatbot LLM"
   ]
  },
  {
   "cell_type": "markdown",
   "metadata": {
    "id": "5w2v0nHHLbLR"
   },
   "source": [
    "## 1. INTRODUCCIÓN"
   ]
  },
  {
   "cell_type": "markdown",
   "metadata": {
    "id": "3UZgG3a-K-H_"
   },
   "source": [
    "La finalidad de este proyecto es encontrar una necesidad o problema a resolver en nuestras vidas y a través de los conocimientos aprendidos durante el módulo, buscar los datos y las herramientas necesarias para crear un modelo que nos permita solucionar el problema en cuestión."
   ]
  },
  {
   "cell_type": "markdown",
   "metadata": {
    "id": "IHBWwlaFLeym"
   },
   "source": [
    "### 1.1. El problema"
   ]
  },
  {
   "cell_type": "markdown",
   "metadata": {
    "id": "F6hnZAUsLZz-"
   },
   "source": [
    "Como a la mayoría de milenials, Pokémon marcó gran parte de mi infancia, ya fuera con los videojuegos de la Gameboy, con el anime o con el juego de cartas. Pokémon estuvo presente durante muchos años en mi vida, pero con la llegada de la pubertad todo lo relacionado con Pokémon desapareció."
   ]
  },
  {
   "cell_type": "markdown",
   "metadata": {
    "id": "U4vzUk2dRvjf"
   },
   "source": [
    "No obstante, mucho tiempo después, la nostalgia tocó a la puerta en forma de cartas de Pokémon TCG, reavivando el niño que llevo dentro. Desde entonces, las colecciono."
   ]
  },
  {
   "cell_type": "markdown",
   "metadata": {
    "id": "Bt0NUSUKRyCa"
   },
   "source": [
    "Sin embargo, antes de añadir una carta a la colección siempre es necesario llevar a cabo un proceso de investigación. Por ello, en mi día a día dedico mucho tiempo en buscar datos sobre diferentes cartas en muchas plataformas incluyendo información sobre el Pokémon, la expansión a la que pertenece, el año en que salió... y por supuesto, su precio."
   ]
  },
  {
   "cell_type": "markdown",
   "metadata": {
    "id": "Ac6qYw8-N0ls"
   },
   "source": [
    "### 1.2. La solución"
   ]
  },
  {
   "cell_type": "markdown",
   "metadata": {
    "id": "22yr4fnoN2-m"
   },
   "source": [
    "La intención de esta práctica es crear un modelo capaz de facilitar todo el proceso de investigación, ofreciendo la información que se necesite en el momento."
   ]
  },
  {
   "cell_type": "markdown",
   "metadata": {
    "id": "3hHBU0ZuR004"
   },
   "source": [
    "De este modo, se diseñará un modelo capaz de recibir una pregunta como input referente a cualquier carta de Pokémon TCG, y el modelo será capaz de responder acertadamente dicha pregunta."
   ]
  },
  {
   "cell_type": "markdown",
   "metadata": {
    "id": "IMjN4YGSLaog"
   },
   "source": [
    "Como es lógico, lo más importante para este modelo será la base de datos, la cual se obtendrá directamente de una API de Pokémon TCG con una cantidad de datos asombrosa sobre cada carta existente: precio, expansión, número, ilustrador, año de salida, etc."
   ]
  },
  {
   "cell_type": "markdown",
   "metadata": {
    "id": "D6YzKlgMPIQu"
   },
   "source": [
    "## 2. MODELO"
   ]
  },
  {
   "cell_type": "markdown",
   "metadata": {
    "id": "LrXufYplPMDl"
   },
   "source": [
    "Para llevar a cabo este proyecto se van a intentar diferentes opciones, entre ellas un modelo de reconocimiento de nombres de entidades, un modelo pequeño y barato especializado en preguntas y respuestas y un modelo generativo como es el GPT-3.5-turbo."
   ]
  },
  {
   "cell_type": "markdown",
   "metadata": {
    "id": "Bl-DRtoaI6J_"
   },
   "source": [
    "### 2.1. Modelo para procesar la consulta al formato de la API"
   ]
  },
  {
   "cell_type": "markdown",
   "metadata": {
    "id": "LspQTd6YIE0u"
   },
   "source": [
    "* NER"
   ]
  },
  {
   "cell_type": "markdown",
   "metadata": {
    "id": "ynK3U-G5JFaS"
   },
   "source": [
    "En primer lugar, vamos a probar con un modelo de reconocimiento de nombre de entidades, con la esperanza de que sea capaz de reconocer los nombres de los Pokemon y de los Set."
   ]
  },
  {
   "cell_type": "code",
   "execution_count": null,
   "metadata": {
    "colab": {
     "base_uri": "https://localhost:8080/",
     "height": 373,
     "referenced_widgets": [
      "a2485cffa040463fa199b95111568465",
      "272f82e5aae54984b5f75319dbd3aed3",
      "17d9eec8a56640acbcedec5f8e7dcace",
      "8b7848b55cf5436a9fc148084c17f74f",
      "24e9f541438240ae934b279664645035",
      "089d860fb220414595e4c3c63d237496",
      "008a47b8ab2b4402868be63d3ff553c9",
      "ddf2c4d562304006bc3d97c30575e9de",
      "d30890adec3e435abf3db38b8bdd6350",
      "fa03b94a551148269c013e8a14e2743b",
      "7e4afee247c84531a6b1682a5721040b",
      "fa91e8d73376442b9084d40dc62e0c2c",
      "a533a8774c054b18a2dfdf87a3cb68e3",
      "89f50fb2712d4b96ae81a2378e96ec9e",
      "bbff3c1332284657b9a94287b7c3bbc4",
      "c526a10f7d0749d8ac0ceb0202ecffe5",
      "11b286e493514137a2b9f3a1f2e7a73b",
      "458c75600e954eff8446d91526eecb95",
      "e57b5949f9e64d08b327ae612f3bf1d9",
      "1464452bf4a04967b8488603d9fbfc75",
      "28f03bcd24ec4a2f8056eb8aab326e0a",
      "852cbe3a01ba49b8a1e35093cedfc899",
      "927aee97d69b40ed85bbfe1ef5c08b54",
      "1382e18813c54a6fb45cd37ce5251f19",
      "b59ea318512140c29c06405127dd6f0c",
      "ca1b455ad2df43b1a7d3b85c9714bc78",
      "38ff018253d7424e922b1b4975459181",
      "e6854d9073f049a49399957236a8c263",
      "55764905127f4c7cb40e180112015f40",
      "b43d188e0b7c4fd3b9631f16d640be92",
      "7b558fe8459042cf99d0b7df6f469198",
      "ce0763b263794d0fb8bc5c9306bce3f2",
      "d3093383f92b4d3585829cdae7ea8a30",
      "32da77339da74bc2af0b75ea0a3e32c5",
      "e4b3fb48eeeb4c05b9e007db7aa4ad80",
      "873ec3e0f3e241e2b43748f469989166",
      "b28557ff39e341fe8fe9cb28ac04810f",
      "b8ab1878a3814708a85134c9d2376a99",
      "6c73a5ee854e424d94f138852cf4f18a",
      "db031223584a4469a0ec2225b6c5d8ce",
      "de29a0f4ab1c41728378d7bade377ec6",
      "a6a14b2f656f406eb2b944876288287d",
      "7b820e60a02c49ff84541113dfff6165",
      "2b9495e344df4383ae7de2154a69f9a9"
     ]
    },
    "id": "j0d7Ro5GM3aw",
    "outputId": "a2cf1691-4803-42aa-9418-7e7044375c35"
   },
   "outputs": [
    {
     "name": "stderr",
     "output_type": "stream",
     "text": [
      "/usr/local/lib/python3.11/dist-packages/huggingface_hub/utils/_auth.py:94: UserWarning: \n",
      "The secret `HF_TOKEN` does not exist in your Colab secrets.\n",
      "To authenticate with the Hugging Face Hub, create a token in your settings tab (https://huggingface.co/settings/tokens), set it as secret in your Google Colab and restart your session.\n",
      "You will be able to reuse this secret in all of your notebooks.\n",
      "Please note that authentication is recommended but still optional to access public models or datasets.\n",
      "  warnings.warn(\n"
     ]
    },
    {
     "data": {
      "application/vnd.jupyter.widget-view+json": {
       "model_id": "a2485cffa040463fa199b95111568465",
       "version_major": 2,
       "version_minor": 0
      },
      "text/plain": [
       "config.json:   0%|          | 0.00/998 [00:00<?, ?B/s]"
      ]
     },
     "metadata": {},
     "output_type": "display_data"
    },
    {
     "data": {
      "application/vnd.jupyter.widget-view+json": {
       "model_id": "fa91e8d73376442b9084d40dc62e0c2c",
       "version_major": 2,
       "version_minor": 0
      },
      "text/plain": [
       "model.safetensors:   0%|          | 0.00/1.33G [00:00<?, ?B/s]"
      ]
     },
     "metadata": {},
     "output_type": "display_data"
    },
    {
     "name": "stderr",
     "output_type": "stream",
     "text": [
      "Some weights of the model checkpoint at dbmdz/bert-large-cased-finetuned-conll03-english were not used when initializing BertForTokenClassification: ['bert.pooler.dense.bias', 'bert.pooler.dense.weight']\n",
      "- This IS expected if you are initializing BertForTokenClassification from the checkpoint of a model trained on another task or with another architecture (e.g. initializing a BertForSequenceClassification model from a BertForPreTraining model).\n",
      "- This IS NOT expected if you are initializing BertForTokenClassification from the checkpoint of a model that you expect to be exactly identical (initializing a BertForSequenceClassification model from a BertForSequenceClassification model).\n"
     ]
    },
    {
     "data": {
      "application/vnd.jupyter.widget-view+json": {
       "model_id": "927aee97d69b40ed85bbfe1ef5c08b54",
       "version_major": 2,
       "version_minor": 0
      },
      "text/plain": [
       "tokenizer_config.json:   0%|          | 0.00/60.0 [00:00<?, ?B/s]"
      ]
     },
     "metadata": {},
     "output_type": "display_data"
    },
    {
     "data": {
      "application/vnd.jupyter.widget-view+json": {
       "model_id": "32da77339da74bc2af0b75ea0a3e32c5",
       "version_major": 2,
       "version_minor": 0
      },
      "text/plain": [
       "vocab.txt:   0%|          | 0.00/213k [00:00<?, ?B/s]"
      ]
     },
     "metadata": {},
     "output_type": "display_data"
    },
    {
     "name": "stderr",
     "output_type": "stream",
     "text": [
      "Device set to use cpu\n",
      "/usr/local/lib/python3.11/dist-packages/transformers/pipelines/token_classification.py:170: UserWarning: `grouped_entities` is deprecated and will be removed in version v5.0.0, defaulted to `aggregation_strategy=\"AggregationStrategy.SIMPLE\"` instead.\n",
      "  warnings.warn(\n"
     ]
    }
   ],
   "source": [
    "from transformers import pipeline\n",
    "\n",
    "# Cargar un modelo pre-entrenado de lenguaje natural\n",
    "nlp = pipeline(\"ner\", grouped_entities=True, model=\"dbmdz/bert-large-cased-finetuned-conll03-english\")\n",
    "\n",
    "def modelo_NER(query):\n",
    "\n",
    "    # Paso 1: Obtener las entidades reconocidas por el modelo\n",
    "    entities = nlp(query)\n",
    "\n",
    "    # Paso 2: Inicializar variables para las claves\n",
    "    name_keyword = None\n",
    "    set_keyword = None\n",
    "\n",
    "    # Paso 3: Buscar las entidades clave\n",
    "    for entity in entities:\n",
    "        if entity[\"entity_group\"] == \"MISC\":  # Podría ser el nombre del set\n",
    "            set_keyword = entity[\"word\"].lower()\n",
    "        elif entity[\"entity_group\"] == \"ORG\":  # Podría ser el nombre del Pokémon\n",
    "            name_keyword = entity[\"word\"].lower()\n",
    "\n",
    "    # Paso 4: Construir la query para la API\n",
    "    api_query = []\n",
    "    if name_keyword:\n",
    "        api_query.append(f\"name:{name_keyword}\")\n",
    "    if set_keyword:\n",
    "        api_query.append(f\"set.name:{set_keyword}\")\n",
    "\n",
    "    return \" \".join(api_query) if api_query else None"
   ]
  },
  {
   "cell_type": "markdown",
   "metadata": {
    "id": "UDCIcOXgjwqb"
   },
   "source": [
    "* Ejemplo 1"
   ]
  },
  {
   "cell_type": "code",
   "execution_count": null,
   "metadata": {
    "id": "-MpOrvUmNHTn"
   },
   "outputs": [],
   "source": [
    "ejemplo = nlp(\"What are the cards from Charizard in Team Rocket\")"
   ]
  },
  {
   "cell_type": "code",
   "execution_count": null,
   "metadata": {
    "colab": {
     "base_uri": "https://localhost:8080/"
    },
    "id": "XtQs3HabNnoR",
    "outputId": "9a0ca883-ea40-4a60-852d-f5e75f96a038"
   },
   "outputs": [
    {
     "data": {
      "text/plain": [
       "[{'entity_group': 'ORG',\n",
       "  'score': 0.913363,\n",
       "  'word': 'Charizard',\n",
       "  'start': 24,\n",
       "  'end': 33},\n",
       " {'entity_group': 'ORG',\n",
       "  'score': 0.90259176,\n",
       "  'word': 'Team Rocket',\n",
       "  'start': 37,\n",
       "  'end': 48}]"
      ]
     },
     "execution_count": 4,
     "metadata": {},
     "output_type": "execute_result"
    }
   ],
   "source": [
    "ejemplo"
   ]
  },
  {
   "cell_type": "markdown",
   "metadata": {
    "id": "pfXhq2g1jzB5"
   },
   "source": [
    "* Ejemplo 2"
   ]
  },
  {
   "cell_type": "code",
   "execution_count": null,
   "metadata": {
    "id": "tSD5DhtkPm8w"
   },
   "outputs": [],
   "source": [
    "ejemplo2 = nlp(\"I want to know the price of the Neo Genesis Lugia\")"
   ]
  },
  {
   "cell_type": "code",
   "execution_count": null,
   "metadata": {
    "colab": {
     "base_uri": "https://localhost:8080/"
    },
    "id": "VFqbtCb6PnCj",
    "outputId": "a82deb98-adb7-4cf3-cb72-bc91bff021a9"
   },
   "outputs": [
    {
     "data": {
      "text/plain": [
       "[{'entity_group': 'MISC',\n",
       "  'score': 0.9893898,\n",
       "  'word': 'Neo Genesis Lugia',\n",
       "  'start': 32,\n",
       "  'end': 49}]"
      ]
     },
     "execution_count": 6,
     "metadata": {},
     "output_type": "execute_result"
    }
   ],
   "source": [
    "ejemplo2"
   ]
  },
  {
   "cell_type": "markdown",
   "metadata": {
    "id": "sgJ9NzqTj0W_"
   },
   "source": [
    "* Ejemplo 3"
   ]
  },
  {
   "cell_type": "code",
   "execution_count": null,
   "metadata": {
    "id": "zwQKWFxDPDa5"
   },
   "outputs": [],
   "source": [
    "ejemplo3 = nlp(\"Tell me information about the Umbreon from Evolving Skies\")"
   ]
  },
  {
   "cell_type": "code",
   "execution_count": null,
   "metadata": {
    "colab": {
     "base_uri": "https://localhost:8080/"
    },
    "id": "T2WRm9UnPDm9",
    "outputId": "f7f30b93-1e51-44d2-a1cd-dd2b9fe0b579"
   },
   "outputs": [
    {
     "data": {
      "text/plain": [
       "[{'entity_group': 'MISC',\n",
       "  'score': 0.8483124,\n",
       "  'word': 'Um',\n",
       "  'start': 30,\n",
       "  'end': 32},\n",
       " {'entity_group': 'PER',\n",
       "  'score': 0.27535868,\n",
       "  'word': '##bre',\n",
       "  'start': 32,\n",
       "  'end': 35},\n",
       " {'entity_group': 'MISC',\n",
       "  'score': 0.6977882,\n",
       "  'word': '##on from Evolving Skies',\n",
       "  'start': 35,\n",
       "  'end': 57}]"
      ]
     },
     "execution_count": 8,
     "metadata": {},
     "output_type": "execute_result"
    }
   ],
   "source": [
    "ejemplo3"
   ]
  },
  {
   "cell_type": "markdown",
   "metadata": {
    "id": "88UpicMYOsqv"
   },
   "source": [
    "En el primer ejemplo, ha reconocido correctamente tanto el nombre del Pokémon como el nombre de la expansión (a pesar de ser un nombre compuesto). Sin embargo, los ha reconocido ambos como \"ORG\". Además, cuando intentamos ejemplos más complejos, el modelo no funciona como se esperaba. En el ejemplo 2 toma como un mismo nombre el conjunto de la expansión y el Pokémon. Y en el ejemplo 3 directamente no reconoce ninguno de los nombres."
   ]
  },
  {
   "cell_type": "markdown",
   "metadata": {
    "id": "qM3jRpTkPdJu"
   },
   "source": [
    "En resumen, este modelo nos podría servir de ayuda para búsquedas más sencillas, o mejorarlo con un Fine Tuning utilizando una base de datos con información sobre nombres de Pokémon y expansiones. No obstante, en este proyecto se intentará conseguir mejores resultados mediante otras alternativas."
   ]
  },
  {
   "cell_type": "markdown",
   "metadata": {
    "id": "rVa2mvH_JKCx"
   },
   "source": [
    "* Modelo GPT y Prompt Engineering"
   ]
  },
  {
   "cell_type": "markdown",
   "metadata": {
    "id": "gu-omwHci3lK"
   },
   "source": [
    "En segundo lugar, se decide optar por otra alternativa, un LLM chatbot capaz de analizar lenguaje natural de una forma más efectiva. En este caso se usará el GPT-3.5-turbo, con el objetivo de que sea capaz de reconocer los nombres de los Pokémon, expansiones u otros datos importantes."
   ]
  },
  {
   "cell_type": "markdown",
   "metadata": {
    "id": "M4xeonBfKGs0"
   },
   "source": [
    "Además, mediante prompt engineering se le asigna un rol, una tarea, un formato de salida y varios ejemplos para obtener el resultado requerido."
   ]
  },
  {
   "cell_type": "code",
   "execution_count": null,
   "metadata": {
    "colab": {
     "base_uri": "https://localhost:8080/"
    },
    "id": "9JOzmGLGeJ29",
    "outputId": "851666cf-12e1-4ae6-a4d5-cadbe0231157"
   },
   "outputs": [
    {
     "name": "stdout",
     "output_type": "stream",
     "text": [
      "Enter your OpenAI API Key:··········\n"
     ]
    }
   ],
   "source": [
    "from openai import OpenAI\n",
    "import json\n",
    "import getpass\n",
    "\n",
    "api_key = getpass.getpass(\"Enter your OpenAI API Key:\")\n",
    "\n",
    "client = OpenAI(api_key = api_key)"
   ]
  },
  {
   "cell_type": "code",
   "execution_count": null,
   "metadata": {
    "id": "7g6yUUy9IJI3"
   },
   "outputs": [],
   "source": [
    "def input_format(question, model=\"gpt-3.5-turbo\", temperature=0):\n",
    "\n",
    "    prompt_template = \"\"\"\n",
    "**DON'T MAKE UP INFORMATION**. Extract specific details **ONLY** from the user's question and return a valid JSON dictionary.\n",
    "\n",
    "### **Posible Keys ONLY IF GIVEN**:\n",
    "- name\n",
    "- number\n",
    "- set.name\n",
    "- artist\n",
    "\n",
    "### **Examples**:\n",
    "\n",
    "1. User: Who designed the neo genesis lugia and how much is it in dollars?\n",
    "Solution: {{\"name\":\"lugia\", \"set.name\":\"neo genesis\"}}\n",
    "\n",
    "2. User: What is the price of the umbreons from evolving skies? order them from low to high prices\n",
    "Solution: {{\"name\":\"umbreon\", \"subtypes\":\"vmax\", \"set.name\":\"evolving skies\"}}\n",
    "\n",
    "3. User: when was released the charizard 199? can you show me a photo?\n",
    "Solution: {{\"name\":\"charizard\", \"number\":\"199\"}}\n",
    "\n",
    "3. User: show me a photo of the drowzee desgined by Komiya?\n",
    "Solution: {{\"name\":\"drowzee\", \"artist\":\"Komiya\"}}\n",
    "\n",
    "### New user Input:\n",
    "{question}\n",
    "\n",
    "### Your solution:\n",
    "\"\"\"\n",
    "    prompt = prompt_template.format(question=question)\n",
    "    messages = [{\"role\": \"user\", \"content\": prompt}]\n",
    "    response = client.chat.completions.create(\n",
    "        model=model,\n",
    "        messages=messages,\n",
    "        temperature=temperature,\n",
    "    )\n",
    "\n",
    "    str_dict = response.choices[0].message.content\n",
    "    json_dict = json.loads(str_dict)\n",
    "    return json_dict  # Devuelve el diccionario en formato JSON\n"
   ]
  },
  {
   "cell_type": "markdown",
   "metadata": {
    "id": "_pIEf542jcNk"
   },
   "source": [
    "* Ejemplo 1"
   ]
  },
  {
   "cell_type": "code",
   "execution_count": null,
   "metadata": {
    "id": "LdmzrVsJeKME"
   },
   "outputs": [],
   "source": [
    "question_1 = \"who designed the houndoom from neo revelation?\""
   ]
  },
  {
   "cell_type": "code",
   "execution_count": null,
   "metadata": {
    "colab": {
     "base_uri": "https://localhost:8080/"
    },
    "id": "6t6hIBnwhaMk",
    "outputId": "0076ff27-1143-4de9-dd3b-91969c0b30c5"
   },
   "outputs": [
    {
     "name": "stdout",
     "output_type": "stream",
     "text": [
      "{'name': 'houndoom', 'set.name': 'neo revelation'}\n"
     ]
    }
   ],
   "source": [
    "response_1 = input_format(question_1)\n",
    "print(response_1)"
   ]
  },
  {
   "cell_type": "markdown",
   "metadata": {
    "id": "YEqfHqfojgdC"
   },
   "source": [
    "* Ejemplo 2"
   ]
  },
  {
   "cell_type": "code",
   "execution_count": null,
   "metadata": {
    "id": "03onaLy3hF6n"
   },
   "outputs": [],
   "source": [
    "question_2 = \"how much is it the unseen forces celebi?\""
   ]
  },
  {
   "cell_type": "code",
   "execution_count": null,
   "metadata": {
    "colab": {
     "base_uri": "https://localhost:8080/"
    },
    "id": "hQBPip8bhQd_",
    "outputId": "075b464c-330d-4166-e9aa-8948df2b8f76"
   },
   "outputs": [
    {
     "name": "stdout",
     "output_type": "stream",
     "text": [
      "{'name': 'celebi', 'set.name': 'unseen forces'}\n"
     ]
    }
   ],
   "source": [
    "response_2 = input_format(question_2)\n",
    "print(response_2)"
   ]
  },
  {
   "cell_type": "markdown",
   "metadata": {
    "id": "5d0ytTqxjlrT"
   },
   "source": [
    "* Ejemplo 3"
   ]
  },
  {
   "cell_type": "code",
   "execution_count": null,
   "metadata": {
    "id": "UQbA-teHi0p2"
   },
   "outputs": [],
   "source": [
    "question_3 = \"when was released the charizard from base set?\""
   ]
  },
  {
   "cell_type": "code",
   "execution_count": null,
   "metadata": {
    "colab": {
     "base_uri": "https://localhost:8080/"
    },
    "id": "ujW9dL51klFg",
    "outputId": "941e6b21-236b-4679-f5c3-cad7e602dbdd"
   },
   "outputs": [
    {
     "name": "stdout",
     "output_type": "stream",
     "text": [
      "{'name': 'charizard', 'set.name': 'base'}\n"
     ]
    }
   ],
   "source": [
    "response_3 = input_format(question_3)\n",
    "print(response_3)"
   ]
  },
  {
   "cell_type": "markdown",
   "metadata": {
    "id": "_OH-FiZKrVg0"
   },
   "source": [
    "* Ejemplo 4"
   ]
  },
  {
   "cell_type": "code",
   "execution_count": null,
   "metadata": {
    "id": "nY8cBg7vrVok"
   },
   "outputs": [],
   "source": [
    "question_4 = \"What is the price in US market of the different umbreons from evolving skies? Please order them from cheapest to most expensive\""
   ]
  },
  {
   "cell_type": "code",
   "execution_count": null,
   "metadata": {
    "colab": {
     "base_uri": "https://localhost:8080/"
    },
    "id": "qmo64NhE9Du3",
    "outputId": "9e0591dd-b9d5-4f0d-8d29-eab2822c69a3"
   },
   "outputs": [
    {
     "name": "stdout",
     "output_type": "stream",
     "text": [
      "{'name': 'umbreon', 'set.name': 'evolving skies'}\n"
     ]
    }
   ],
   "source": [
    "response_4 = input_format(question_4)\n",
    "print(response_4)"
   ]
  },
  {
   "cell_type": "markdown",
   "metadata": {
    "id": "6Dper0N0zBHE"
   },
   "source": [
    "Como se puede comprobar el comportamiento del modelo es más que aceptable, aunque no perfecto, pero la mayoría de las veces cumple su función."
   ]
  },
  {
   "cell_type": "markdown",
   "metadata": {
    "id": "ju8Y-u4taMd6"
   },
   "source": [
    "No obstante, la API no entiende el formato JSON.Además, las palabras compuestas como Team Rocket deben estar agrupadas entre \\\" para que la API las considere como un mismo nombre."
   ]
  },
  {
   "cell_type": "markdown",
   "metadata": {
    "id": "jInYtLr5afqB"
   },
   "source": [
    "Para llevar a cabo dicha transformación, se diseña una función."
   ]
  },
  {
   "cell_type": "code",
   "execution_count": null,
   "metadata": {
    "id": "5757gtvaarj8"
   },
   "outputs": [],
   "source": [
    "def api_format(json_dict):\n",
    "\n",
    "    formatted_parts = []\n",
    "\n",
    "    for key, value in json_dict.items():\n",
    "        formatted_parts.append(f'{key}:\"{value}\"')  # Agregar \\\" al inicio y final del valor\n",
    "\n",
    "    return \" \".join(formatted_parts)  # Unir todos los elementos con espacio"
   ]
  },
  {
   "cell_type": "markdown",
   "metadata": {
    "id": "yF35SmzTcRvR"
   },
   "source": [
    "* Ejemplo 1"
   ]
  },
  {
   "cell_type": "code",
   "execution_count": null,
   "metadata": {
    "colab": {
     "base_uri": "https://localhost:8080/"
    },
    "id": "94meBxqIcTkl",
    "outputId": "8991ec5d-f36b-4f33-fd69-fee8e7d7f470"
   },
   "outputs": [
    {
     "name": "stdout",
     "output_type": "stream",
     "text": [
      "name:\"houndoom\" set.name:\"neo revelation\"\n"
     ]
    }
   ],
   "source": [
    "api_format_1 = api_format(response_1)\n",
    "print(api_format_1)"
   ]
  },
  {
   "cell_type": "markdown",
   "metadata": {
    "id": "Ko3IBOffcTrm"
   },
   "source": [
    "* Ejemplo 2"
   ]
  },
  {
   "cell_type": "code",
   "execution_count": null,
   "metadata": {
    "colab": {
     "base_uri": "https://localhost:8080/",
     "height": 35
    },
    "id": "krMEd5WWcTxm",
    "outputId": "c78c854a-20d7-4ef2-d612-efea4a2ce922"
   },
   "outputs": [
    {
     "data": {
      "application/vnd.google.colaboratory.intrinsic+json": {
       "type": "string"
      },
      "text/plain": [
       "'name:\"celebi\" set.name:\"unseen forces\"'"
      ]
     },
     "execution_count": 71,
     "metadata": {},
     "output_type": "execute_result"
    }
   ],
   "source": [
    "api_format_2 = api_format(response_2)\n",
    "api_format_2"
   ]
  },
  {
   "cell_type": "markdown",
   "metadata": {
    "id": "RqJ1JhMNcT3K"
   },
   "source": [
    "* Ejemplo 3"
   ]
  },
  {
   "cell_type": "code",
   "execution_count": null,
   "metadata": {
    "colab": {
     "base_uri": "https://localhost:8080/",
     "height": 35
    },
    "id": "vYVWijQ2cT8i",
    "outputId": "56e50c78-21d1-4f20-bbb3-017ae4a7a16d"
   },
   "outputs": [
    {
     "data": {
      "application/vnd.google.colaboratory.intrinsic+json": {
       "type": "string"
      },
      "text/plain": [
       "'name:\"charizard\" set.name:\"base\"'"
      ]
     },
     "execution_count": 72,
     "metadata": {},
     "output_type": "execute_result"
    }
   ],
   "source": [
    "api_format_3 = api_format(response_3)\n",
    "api_format_3"
   ]
  },
  {
   "cell_type": "markdown",
   "metadata": {
    "id": "e5MDyZ3-rupx"
   },
   "source": [
    "* Ejemplo 4"
   ]
  },
  {
   "cell_type": "code",
   "execution_count": null,
   "metadata": {
    "colab": {
     "base_uri": "https://localhost:8080/",
     "height": 35
    },
    "id": "tVIp0xl_ruwF",
    "outputId": "cbd05b46-cf95-460f-997a-9fc01e749c40"
   },
   "outputs": [
    {
     "data": {
      "application/vnd.google.colaboratory.intrinsic+json": {
       "type": "string"
      },
      "text/plain": [
       "'name:\"umbreon\" set.name:\"evolving skies\"'"
      ]
     },
     "execution_count": 73,
     "metadata": {},
     "output_type": "execute_result"
    }
   ],
   "source": [
    "api_format_4 = api_format(response_4)\n",
    "api_format_4"
   ]
  },
  {
   "cell_type": "markdown",
   "metadata": {
    "id": "yirttPR2qjg2"
   },
   "source": [
    "### 2.2. Función para llamar a la API"
   ]
  },
  {
   "cell_type": "markdown",
   "metadata": {
    "id": "aFpmnyZKKoza"
   },
   "source": [
    "Tal y como se explicó con anterioridad, se va a utilizar un API de Pokemon TCG con gran cantidad de datos sobre todas las cartas existentes con una información muy completa, estructurada y de fácil acceso."
   ]
  },
  {
   "cell_type": "code",
   "execution_count": null,
   "metadata": {
    "id": "vbdwifRcUOMM"
   },
   "outputs": [],
   "source": [
    "import requests\n",
    "\n",
    "def api_card_data(query):\n",
    "    url = \"https://api.pokemontcg.io/v2/cards\"\n",
    "    headers = {\"X-Api-Key\": \"12bf9d80-fc20-494b-8445-a1360e7ce3c8\"}\n",
    "    params = {\"q\": query}\n",
    "    response = requests.get(url, params=params, headers=headers)\n",
    "\n",
    "    if response.status_code == 200:\n",
    "        return response.json()\n",
    "    else:\n",
    "        return {\"error\": f\"API Error: {response.status_code}\"}"
   ]
  },
  {
   "cell_type": "markdown",
   "metadata": {
    "id": "YcE8G2k3kwbg"
   },
   "source": [
    "* Ejemplo 1"
   ]
  },
  {
   "cell_type": "code",
   "execution_count": null,
   "metadata": {
    "colab": {
     "base_uri": "https://localhost:8080/"
    },
    "id": "Y0qv3T2uK4f3",
    "outputId": "e8224fd4-b2f7-4b17-c2a7-97e0dac222f4"
   },
   "outputs": [
    {
     "name": "stdout",
     "output_type": "stream",
     "text": [
      "{'data': [{'id': 'neo3-8', 'name': 'Houndoom', 'supertype': 'Pokémon', 'subtypes': ['Stage 1'], 'level': '35', 'hp': '70', 'types': ['Darkness'], 'evolvesFrom': 'Houndour', 'attacks': [{'name': 'Dark Flame', 'cost': ['Fire'], 'convertedEnergyCost': 1, 'damage': '20', 'text': 'Discard 1 Fire Energy card attached to Houndoom or this attack does nothing. If there are any Darkness Energy cards in your discard pile, attach 1 of them to Houndoom.'}, {'name': 'Black Fang', 'cost': ['Darkness', 'Colorless', 'Colorless'], 'convertedEnergyCost': 3, 'damage': '30+', 'text': 'Flip a number of coins equal to the number of Darkness Energy attached to Houndoom. This attack does 30 damage plus 10 more damage for each heads.'}], 'resistances': [{'type': 'Psychic', 'value': '-30'}], 'retreatCost': ['Colorless'], 'convertedRetreatCost': 1, 'set': {'id': 'neo3', 'name': 'Neo Revelation', 'series': 'Neo', 'printedTotal': 64, 'total': 66, 'legalities': {'unlimited': 'Legal'}, 'ptcgoCode': 'N3', 'releaseDate': '2001/09/21', 'updatedAt': '2020/08/14 09:35:00', 'images': {'symbol': 'https://images.pokemontcg.io/neo3/symbol.png', 'logo': 'https://images.pokemontcg.io/neo3/logo.png'}}, 'number': '8', 'artist': 'Mitsuhiro Arita', 'rarity': 'Rare Holo', 'flavorText': 'Upon hearing its eerie howls, other Pokémon get the shivers and head straight back to their nests.', 'nationalPokedexNumbers': [229], 'legalities': {'unlimited': 'Legal'}, 'images': {'small': 'https://images.pokemontcg.io/neo3/8.png', 'large': 'https://images.pokemontcg.io/neo3/8_hires.png'}, 'tcgplayer': {'url': 'https://prices.pokemontcg.io/tcgplayer/neo3-8', 'updatedAt': '2025/02/01', 'prices': {'1stEditionHolofoil': {'low': 187.22, 'mid': 187.22, 'high': 249.99, 'market': 146.2, 'directLow': None}, 'unlimitedHolofoil': {'low': 64.8, 'mid': 96.9, 'high': 179.93, 'market': 137.84, 'directLow': None}}}, 'cardmarket': {'url': 'https://prices.pokemontcg.io/cardmarket/neo3-8', 'updatedAt': '2025/02/01', 'prices': {'averageSellPrice': 114.38, 'lowPrice': 13.99, 'trendPrice': 110.07, 'germanProLow': 0.0, 'suggestedPrice': 0.0, 'reverseHoloSell': 0.0, 'reverseHoloLow': 0.0, 'reverseHoloTrend': 36.23, 'lowPriceExPlus': 55.0, 'avg1': 53.25, 'avg7': 48.03, 'avg30': 81.71, 'reverseHoloAvg1': 37.66, 'reverseHoloAvg7': 39.5, 'reverseHoloAvg30': 44.17}}}], 'page': 1, 'pageSize': 250, 'count': 1, 'totalCount': 1}\n"
     ]
    }
   ],
   "source": [
    "card_data_1 = api_card_data(api_format_1)\n",
    "print(card_data_1)"
   ]
  },
  {
   "cell_type": "markdown",
   "metadata": {
    "id": "o3F0ygs0qTiR"
   },
   "source": [
    "* Ejemplo 2"
   ]
  },
  {
   "cell_type": "code",
   "execution_count": null,
   "metadata": {
    "colab": {
     "base_uri": "https://localhost:8080/"
    },
    "id": "y9rnNi60m1lK",
    "outputId": "55c3a681-478e-4803-fc8e-9588d5e79e86"
   },
   "outputs": [
    {
     "name": "stdout",
     "output_type": "stream",
     "text": [
      "{'data': [{'id': 'ex10-117', 'name': 'Celebi ex', 'supertype': 'Pokémon', 'subtypes': ['Basic', 'ex'], 'hp': '70', 'types': ['Grass'], 'rules': ['When Pokémon-ex has been Knocked Out, your opponent takes 2 Prize cards.'], 'attacks': [{'name': 'Spiral Leaf', 'cost': ['Grass'], 'convertedEnergyCost': 1, 'damage': '', 'text': \"Flip a coin. If heads, put 1 damage counter on each of your opponent's Pokémon. If tails, remove 1 damage counter from each of your Pokémon.\"}, {'name': 'Time Trap', 'cost': ['Grass', 'Colorless'], 'convertedEnergyCost': 2, 'damage': '30', 'text': \"Flip a coin. If heads, look at the top 4 cards of your opponent's deck, and put them back on top of your opponent's deck in any order. If tails, look at the top 4 cards of your deck, and put them back on top of your deck in any order.\"}], 'weaknesses': [{'type': 'Fire', 'value': '×2'}], 'retreatCost': ['Colorless'], 'convertedRetreatCost': 1, 'set': {'id': 'ex10', 'name': 'Unseen Forces', 'series': 'EX', 'printedTotal': 115, 'total': 145, 'legalities': {'unlimited': 'Legal'}, 'ptcgoCode': 'UF', 'releaseDate': '2005/08/01', 'updatedAt': '2020/08/14 09:35:00', 'images': {'symbol': 'https://images.pokemontcg.io/ex10/symbol.png', 'logo': 'https://images.pokemontcg.io/ex10/logo.png'}}, 'number': '117', 'artist': 'Ryo Ueda', 'rarity': 'Rare Secret', 'nationalPokedexNumbers': [251], 'legalities': {'unlimited': 'Legal'}, 'images': {'small': 'https://images.pokemontcg.io/ex10/117.png', 'large': 'https://images.pokemontcg.io/ex10/117_hires.png'}, 'tcgplayer': {'url': 'https://prices.pokemontcg.io/tcgplayer/ex10-117', 'updatedAt': '2025/02/01', 'prices': {'holofoil': {'low': 169.0, 'mid': 277.99, 'high': 435.29, 'market': 399.99, 'directLow': None}}}, 'cardmarket': {'url': 'https://prices.pokemontcg.io/cardmarket/ex10-117', 'updatedAt': '2025/02/01', 'prices': {'averageSellPrice': 216.66, 'lowPrice': 52.0, 'trendPrice': 211.16, 'germanProLow': 0.0, 'suggestedPrice': 0.0, 'reverseHoloSell': 0.0, 'reverseHoloLow': 0.0, 'reverseHoloTrend': 108.57, 'lowPriceExPlus': 199.98, 'avg1': 450.0, 'avg7': 216.67, 'avg30': 166.94, 'reverseHoloAvg1': 200.0, 'reverseHoloAvg7': 122.86, 'reverseHoloAvg30': 68.62}}}], 'page': 1, 'pageSize': 250, 'count': 1, 'totalCount': 1}\n"
     ]
    }
   ],
   "source": [
    "card_data_2 = api_card_data(api_format_2)\n",
    "print(card_data_2)\n"
   ]
  },
  {
   "cell_type": "markdown",
   "metadata": {
    "id": "0_7_Sc2bqXHa"
   },
   "source": [
    "* Ejemplo 3"
   ]
  },
  {
   "cell_type": "code",
   "execution_count": null,
   "metadata": {
    "colab": {
     "base_uri": "https://localhost:8080/"
    },
    "id": "pLUu3h6uqXOI",
    "outputId": "06d5dff2-dc45-44b0-c728-e4106987a3f3"
   },
   "outputs": [
    {
     "name": "stdout",
     "output_type": "stream",
     "text": [
      "{'data': [{'id': 'base4-4', 'name': 'Charizard', 'supertype': 'Pokémon', 'subtypes': ['Stage 2'], 'level': '76', 'hp': '120', 'types': ['Fire'], 'evolvesFrom': 'Charmeleon', 'abilities': [{'name': 'Energy Burn', 'text': \"As often as you like during your turn (before your attack), you may turn all Energy attached to Charizard into Fire Energy for the rest of the turn. This power can't be used if Charizard is Asleep, Confused, or Paralyzed.\", 'type': 'Pokémon Power'}], 'attacks': [{'name': 'Fire Spin', 'cost': ['Fire', 'Fire', 'Fire', 'Fire'], 'convertedEnergyCost': 4, 'damage': '100', 'text': 'Discard 2 Energy cards attached to Charizard in order to use this attack.'}], 'weaknesses': [{'type': 'Water', 'value': '×2'}], 'resistances': [{'type': 'Fighting', 'value': '-30'}], 'retreatCost': ['Colorless', 'Colorless', 'Colorless'], 'convertedRetreatCost': 3, 'set': {'id': 'base4', 'name': 'Base Set 2', 'series': 'Base', 'printedTotal': 130, 'total': 130, 'legalities': {'unlimited': 'Legal'}, 'ptcgoCode': 'B2', 'releaseDate': '2000/02/24', 'updatedAt': '2022/10/10 15:12:00', 'images': {'symbol': 'https://images.pokemontcg.io/base4/symbol.png', 'logo': 'https://images.pokemontcg.io/base4/logo.png'}}, 'number': '4', 'artist': 'Mitsuhiro Arita', 'rarity': 'Rare Holo', 'flavorText': 'Spits fire that is hot enough to melt boulders. Known to unintentionally cause forest fires.', 'nationalPokedexNumbers': [6], 'legalities': {'unlimited': 'Legal'}, 'images': {'small': 'https://images.pokemontcg.io/base4/4.png', 'large': 'https://images.pokemontcg.io/base4/4_hires.png'}, 'tcgplayer': {'url': 'https://prices.pokemontcg.io/tcgplayer/base4-4', 'updatedAt': '2025/02/01', 'prices': {'holofoil': {'low': 175.0, 'mid': 299.99, 'high': 999.99, 'market': 292.83, 'directLow': 195.0}}}, 'cardmarket': {'url': 'https://prices.pokemontcg.io/cardmarket/base4-4', 'updatedAt': '2025/02/01', 'prices': {'averageSellPrice': 210.25, 'lowPrice': 60.0, 'trendPrice': 194.62, 'germanProLow': 0.0, 'suggestedPrice': 0.0, 'reverseHoloSell': 0.0, 'reverseHoloLow': 0.0, 'reverseHoloTrend': 190.22, 'lowPriceExPlus': 235.0, 'avg1': 94.0, 'avg7': 218.28, 'avg30': 185.86, 'reverseHoloAvg1': 120.0, 'reverseHoloAvg7': 233.67, 'reverseHoloAvg30': 223.79}}}, {'id': 'base1-4', 'name': 'Charizard', 'supertype': 'Pokémon', 'subtypes': ['Stage 2'], 'level': '76', 'hp': '120', 'types': ['Fire'], 'evolvesFrom': 'Charmeleon', 'abilities': [{'name': 'Energy Burn', 'text': \"As often as you like during your turn (before your attack), you may turn all Energy attached to Charizard into Fire Energy for the rest of the turn. This power can't be used if Charizard is Asleep, Confused, or Paralyzed.\", 'type': 'Pokémon Power'}], 'attacks': [{'name': 'Fire Spin', 'cost': ['Fire', 'Fire', 'Fire', 'Fire'], 'convertedEnergyCost': 4, 'damage': '100', 'text': 'Discard 2 Energy cards attached to Charizard in order to use this attack.'}], 'weaknesses': [{'type': 'Water', 'value': '×2'}], 'resistances': [{'type': 'Fighting', 'value': '-30'}], 'retreatCost': ['Colorless', 'Colorless', 'Colorless'], 'convertedRetreatCost': 3, 'set': {'id': 'base1', 'name': 'Base', 'series': 'Base', 'printedTotal': 102, 'total': 102, 'legalities': {'unlimited': 'Legal'}, 'ptcgoCode': 'BS', 'releaseDate': '1999/01/09', 'updatedAt': '2022/10/10 15:12:00', 'images': {'symbol': 'https://images.pokemontcg.io/base1/symbol.png', 'logo': 'https://images.pokemontcg.io/base1/logo.png'}}, 'number': '4', 'artist': 'Mitsuhiro Arita', 'rarity': 'Rare Holo', 'flavorText': 'Spits fire that is hot enough to melt boulders. Known to unintentionally cause forest fires.', 'nationalPokedexNumbers': [6], 'legalities': {'unlimited': 'Legal'}, 'images': {'small': 'https://images.pokemontcg.io/base1/4.png', 'large': 'https://images.pokemontcg.io/base1/4_hires.png'}, 'tcgplayer': {'url': 'https://prices.pokemontcg.io/tcgplayer/base1-4', 'updatedAt': '2025/02/01', 'prices': {'holofoil': {'low': 270.0, 'mid': 398.99, 'high': 1249.99, 'market': 412.86, 'directLow': None}}}, 'cardmarket': {'url': 'https://prices.pokemontcg.io/cardmarket/base1-4', 'updatedAt': '2025/02/01', 'prices': {'averageSellPrice': 2783.0, 'lowPrice': 560.0, 'trendPrice': 1692.62, 'germanProLow': 0.0, 'suggestedPrice': 0.0, 'reverseHoloSell': 0.0, 'reverseHoloLow': 0.0, 'reverseHoloTrend': 0.0, 'lowPriceExPlus': 1000.0, 'avg1': 2499.0, 'avg7': 1631.43, 'avg30': 1720.67, 'reverseHoloAvg1': 0.0, 'reverseHoloAvg7': 0.0, 'reverseHoloAvg30': 0.0}}}, {'id': 'ecard1-6', 'name': 'Charizard', 'supertype': 'Pokémon', 'subtypes': ['Stage 2'], 'hp': '120', 'types': ['Fire'], 'evolvesFrom': 'Charmeleon', 'abilities': [{'name': 'Burning Energy', 'text': \"Once during your turn (before your attack), you may turn all basic Energy attached to all of your Pokémon into Fire Energy for the rest of the turn. This power can't be used if Charizard is affected by a Special Condition.\", 'type': 'Poké-Power'}], 'attacks': [{'name': 'Scorching Whirlwind', 'cost': ['Fire', 'Fire', 'Fire', 'Fire'], 'convertedEnergyCost': 4, 'damage': '120', 'text': 'Flip 2 coins. If 1 of them is tails, discard 2 Energy cards attached to Charizard. If both are tails, discard all Energy cards attached to Charizard.'}], 'weaknesses': [{'type': 'Water', 'value': '×2'}], 'retreatCost': ['Colorless', 'Colorless', 'Colorless'], 'convertedRetreatCost': 3, 'set': {'id': 'ecard1', 'name': 'Expedition Base Set', 'series': 'E-Card', 'printedTotal': 165, 'total': 165, 'legalities': {'unlimited': 'Legal'}, 'ptcgoCode': 'EX', 'releaseDate': '2002/09/15', 'updatedAt': '2022/10/10 15:12:00', 'images': {'symbol': 'https://images.pokemontcg.io/ecard1/symbol.png', 'logo': 'https://images.pokemontcg.io/ecard1/logo.png'}}, 'number': '6', 'artist': 'Hiromichi Sugiyama', 'rarity': 'Rare Holo', 'nationalPokedexNumbers': [6], 'legalities': {'unlimited': 'Legal'}, 'images': {'small': 'https://images.pokemontcg.io/ecard1/6.png', 'large': 'https://images.pokemontcg.io/ecard1/6_hires.png'}, 'tcgplayer': {'url': 'https://prices.pokemontcg.io/tcgplayer/ecard1-6', 'updatedAt': '2025/02/01', 'prices': {'holofoil': {'low': 160.0, 'mid': 199.99, 'high': 359.99, 'market': 789.95, 'directLow': None}, 'reverseHolofoil': {'low': 151.25, 'mid': 239.99, 'high': 253.79, 'market': 279.54, 'directLow': None}}}, 'cardmarket': {'url': 'https://prices.pokemontcg.io/cardmarket/ecard1-6', 'updatedAt': '2025/02/01', 'prices': {'averageSellPrice': 190.11, 'lowPrice': 20.0, 'trendPrice': 258.76, 'germanProLow': 0.0, 'suggestedPrice': 0.0, 'reverseHoloSell': 64.48, 'reverseHoloLow': 20.0, 'reverseHoloTrend': 37.43, 'lowPriceExPlus': 99.95, 'avg1': 44.99, 'avg7': 283.14, 'avg30': 167.78, 'reverseHoloAvg1': 73.95, 'reverseHoloAvg7': 74.85, 'reverseHoloAvg30': 76.14}}}, {'id': 'ecard1-39', 'name': 'Charizard', 'supertype': 'Pokémon', 'subtypes': ['Stage 2'], 'hp': '100', 'types': ['Fire'], 'evolvesFrom': 'Charmeleon', 'attacks': [{'name': 'Tail Smash', 'cost': ['Colorless'], 'convertedEnergyCost': 1, 'damage': '40', 'text': 'Flip a coin. If tails, this attack does nothing.'}, {'name': 'Flamethrower', 'cost': ['Fire', 'Fire', 'Colorless'], 'convertedEnergyCost': 3, 'damage': '60', 'text': 'Discard 1 Fire Energy card attached to Charizard.'}], 'weaknesses': [{'type': 'Water', 'value': '×2'}], 'retreatCost': ['Colorless', 'Colorless'], 'convertedRetreatCost': 2, 'set': {'id': 'ecard1', 'name': 'Expedition Base Set', 'series': 'E-Card', 'printedTotal': 165, 'total': 165, 'legalities': {'unlimited': 'Legal'}, 'ptcgoCode': 'EX', 'releaseDate': '2002/09/15', 'updatedAt': '2022/10/10 15:12:00', 'images': {'symbol': 'https://images.pokemontcg.io/ecard1/symbol.png', 'logo': 'https://images.pokemontcg.io/ecard1/logo.png'}}, 'number': '39', 'artist': 'Atsuko Nishida', 'rarity': 'Rare', 'nationalPokedexNumbers': [6], 'legalities': {'unlimited': 'Legal'}, 'images': {'small': 'https://images.pokemontcg.io/ecard1/39.png', 'large': 'https://images.pokemontcg.io/ecard1/39_hires.png'}, 'tcgplayer': {'url': 'https://prices.pokemontcg.io/tcgplayer/ecard1-39', 'updatedAt': '2025/02/01', 'prices': {'normal': {'low': 57.68, 'mid': 83.8, 'high': 100.98, 'market': 97.06, 'directLow': None}, 'reverseHolofoil': {'low': 279.95, 'mid': 293.95, 'high': 318.99, 'market': 200.0, 'directLow': None}}}, 'cardmarket': {'url': 'https://prices.pokemontcg.io/cardmarket/ecard1-39', 'updatedAt': '2025/02/01', 'prices': {'averageSellPrice': 29.83, 'lowPrice': 8.0, 'trendPrice': 29.7, 'germanProLow': 0.0, 'suggestedPrice': 0.0, 'reverseHoloSell': 67.39, 'reverseHoloLow': 13.57, 'reverseHoloTrend': 51.62, 'lowPriceExPlus': 35.0, 'avg1': 24.99, 'avg7': 29.69, 'avg30': 24.92, 'reverseHoloAvg1': 20.0, 'reverseHoloAvg7': 53.85, 'reverseHoloAvg30': 54.74}}}, {'id': 'ecard1-40', 'name': 'Charizard', 'supertype': 'Pokémon', 'subtypes': ['Stage 2'], 'hp': '120', 'types': ['Fire'], 'evolvesFrom': 'Charmeleon', 'abilities': [{'name': 'Burning Energy', 'text': \"Once during your turn (before your attack), you may turn all basic Energy attached to all of your Pokémon into Fire Energy for the rest of the turn. This power can't be used if Charizard is affected by a Special Condition.\", 'type': 'Poké-Power'}], 'attacks': [{'name': 'Scorching Whirlwind', 'cost': ['Fire', 'Fire', 'Fire', 'Fire'], 'convertedEnergyCost': 4, 'damage': '120', 'text': 'Flip 2 coins. If 1 of them is tails, discard 2 Energy cards attached to Charizard. If both are tails, discard all Energy cards attached to Charizard.'}], 'weaknesses': [{'type': 'Water', 'value': '×2'}], 'retreatCost': ['Colorless', 'Colorless', 'Colorless'], 'convertedRetreatCost': 3, 'set': {'id': 'ecard1', 'name': 'Expedition Base Set', 'series': 'E-Card', 'printedTotal': 165, 'total': 165, 'legalities': {'unlimited': 'Legal'}, 'ptcgoCode': 'EX', 'releaseDate': '2002/09/15', 'updatedAt': '2022/10/10 15:12:00', 'images': {'symbol': 'https://images.pokemontcg.io/ecard1/symbol.png', 'logo': 'https://images.pokemontcg.io/ecard1/logo.png'}}, 'number': '40', 'artist': 'Hiromichi Sugiyama', 'rarity': 'Rare', 'nationalPokedexNumbers': [6], 'legalities': {'unlimited': 'Legal'}, 'images': {'small': 'https://images.pokemontcg.io/ecard1/40.png', 'large': 'https://images.pokemontcg.io/ecard1/40_hires.png'}, 'tcgplayer': {'url': 'https://prices.pokemontcg.io/tcgplayer/ecard1-40', 'updatedAt': '2025/02/01', 'prices': {'normal': {'low': 38.7, 'mid': 65.71, 'high': 76.11, 'market': 63.43, 'directLow': None}, 'reverseHolofoil': {'low': 157.47, 'mid': 175.94, 'high': 220.0, 'market': 157.47, 'directLow': None}}}, 'cardmarket': {'url': 'https://prices.pokemontcg.io/cardmarket/ecard1-40', 'updatedAt': '2025/02/01', 'prices': {'averageSellPrice': 27.24, 'lowPrice': 5.0, 'trendPrice': 28.73, 'germanProLow': 0.0, 'suggestedPrice': 0.0, 'reverseHoloSell': 31.0, 'reverseHoloLow': 9.99, 'reverseHoloTrend': 30.03, 'lowPriceExPlus': 15.0, 'avg1': 30.0, 'avg7': 24.44, 'avg30': 20.69, 'reverseHoloAvg1': 11.49, 'reverseHoloAvg7': 34.62, 'reverseHoloAvg30': 42.37}}}], 'page': 1, 'pageSize': 250, 'count': 5, 'totalCount': 5}\n"
     ]
    }
   ],
   "source": [
    "card_data_3 = api_card_data(api_format_3)\n",
    "print(card_data_3)"
   ]
  },
  {
   "cell_type": "markdown",
   "metadata": {
    "id": "57oYbkk5vSEB"
   },
   "source": [
    "* Ejemplo 4"
   ]
  },
  {
   "cell_type": "code",
   "execution_count": null,
   "metadata": {
    "colab": {
     "base_uri": "https://localhost:8080/"
    },
    "id": "Q35TPpevr1BW",
    "outputId": "a0072bb4-c623-42be-8948-a25dd4d3abd2"
   },
   "outputs": [
    {
     "name": "stdout",
     "output_type": "stream",
     "text": [
      "{'data': [{'id': 'swsh7-94', 'name': 'Umbreon V', 'supertype': 'Pokémon', 'subtypes': ['Basic', 'V', 'Single Strike'], 'hp': '200', 'types': ['Darkness'], 'rules': ['V rule: When your Pokémon V is Knocked Out, your opponent takes 2 Prize cards.'], 'attacks': [{'name': 'Mean Look', 'cost': ['Darkness'], 'convertedEnergyCost': 1, 'damage': '30', 'text': \"During your opponent's next turn, the Defending Pokémon can't retreat.\"}, {'name': 'Moonlight Blade', 'cost': ['Darkness', 'Colorless', 'Colorless'], 'convertedEnergyCost': 3, 'damage': '80+', 'text': 'If this Pokémon has any damage counters on it, this attack does 80 more damage.'}], 'weaknesses': [{'type': 'Grass', 'value': '×2'}], 'retreatCost': ['Colorless', 'Colorless'], 'convertedRetreatCost': 2, 'set': {'id': 'swsh7', 'name': 'Evolving Skies', 'series': 'Sword & Shield', 'printedTotal': 203, 'total': 237, 'legalities': {'unlimited': 'Legal', 'standard': 'Legal', 'expanded': 'Legal'}, 'ptcgoCode': 'EVS', 'releaseDate': '2021/08/27', 'updatedAt': '2021/08/27 10:17:00', 'images': {'symbol': 'https://images.pokemontcg.io/swsh7/symbol.png', 'logo': 'https://images.pokemontcg.io/swsh7/logo.png'}}, 'number': '94', 'artist': '5ban Graphics', 'rarity': 'Rare Holo V', 'nationalPokedexNumbers': [197], 'legalities': {'unlimited': 'Legal', 'standard': 'Legal', 'expanded': 'Legal'}, 'regulationMark': 'E', 'images': {'small': 'https://images.pokemontcg.io/swsh7/94.png', 'large': 'https://images.pokemontcg.io/swsh7/94_hires.png'}, 'tcgplayer': {'url': 'https://prices.pokemontcg.io/tcgplayer/swsh7-94', 'updatedAt': '2025/02/01', 'prices': {'holofoil': {'low': 1.44, 'mid': 3.0, 'high': 89.0, 'market': 2.76, 'directLow': 4.99}}}, 'cardmarket': {'url': 'https://prices.pokemontcg.io/cardmarket/swsh7-94', 'updatedAt': '2025/02/01', 'prices': {'averageSellPrice': 3.54, 'lowPrice': 0.95, 'trendPrice': 4.11, 'germanProLow': 0.0, 'suggestedPrice': 0.0, 'reverseHoloSell': 0.0, 'reverseHoloLow': 0.0, 'reverseHoloTrend': 0.0, 'lowPriceExPlus': 1.5, 'avg1': 2.99, 'avg7': 3.75, 'avg30': 3.52, 'reverseHoloAvg1': 0.0, 'reverseHoloAvg7': 0.0, 'reverseHoloAvg30': 0.0}}}, {'id': 'swsh7-189', 'name': 'Umbreon V', 'supertype': 'Pokémon', 'subtypes': ['Basic', 'V', 'Single Strike'], 'hp': '200', 'types': ['Darkness'], 'rules': ['V rule: When your Pokémon V is Knocked Out, your opponent takes 2 Prize cards.'], 'attacks': [{'name': 'Mean Look', 'cost': ['Darkness'], 'convertedEnergyCost': 1, 'damage': '30', 'text': \"During your opponent's next turn, the Defending Pokémon can't retreat.\"}, {'name': 'Moonlight Blade', 'cost': ['Darkness', 'Colorless', 'Colorless'], 'convertedEnergyCost': 3, 'damage': '80+', 'text': 'If this Pokémon has any damage counters on it, this attack does 80 more damage.'}], 'weaknesses': [{'type': 'Grass', 'value': '×2'}], 'retreatCost': ['Colorless', 'Colorless'], 'convertedRetreatCost': 2, 'set': {'id': 'swsh7', 'name': 'Evolving Skies', 'series': 'Sword & Shield', 'printedTotal': 203, 'total': 237, 'legalities': {'unlimited': 'Legal', 'standard': 'Legal', 'expanded': 'Legal'}, 'ptcgoCode': 'EVS', 'releaseDate': '2021/08/27', 'updatedAt': '2021/08/27 10:17:00', 'images': {'symbol': 'https://images.pokemontcg.io/swsh7/symbol.png', 'logo': 'https://images.pokemontcg.io/swsh7/logo.png'}}, 'number': '189', 'artist': 'Teeziro', 'rarity': 'Rare Ultra', 'nationalPokedexNumbers': [197], 'legalities': {'unlimited': 'Legal', 'standard': 'Legal', 'expanded': 'Legal'}, 'regulationMark': 'E', 'images': {'small': 'https://images.pokemontcg.io/swsh7/189.png', 'large': 'https://images.pokemontcg.io/swsh7/189_hires.png'}, 'tcgplayer': {'url': 'https://prices.pokemontcg.io/tcgplayer/swsh7-189', 'updatedAt': '2025/02/01', 'prices': {'holofoil': {'low': 232.61, 'mid': 274.95, 'high': 499.99, 'market': 247.84, 'directLow': 274.89}}}, 'cardmarket': {'url': 'https://prices.pokemontcg.io/cardmarket/swsh7-189', 'updatedAt': '2025/02/01', 'prices': {'averageSellPrice': 230.11, 'lowPrice': 90.0, 'trendPrice': 233.31, 'germanProLow': 0.0, 'suggestedPrice': 0.0, 'reverseHoloSell': 0.0, 'reverseHoloLow': 0.0, 'reverseHoloTrend': 0.0, 'lowPriceExPlus': 174.98, 'avg1': 100.0, 'avg7': 212.91, 'avg30': 216.55, 'reverseHoloAvg1': 0.0, 'reverseHoloAvg7': 0.0, 'reverseHoloAvg30': 0.0}}}, {'id': 'swsh7-95', 'name': 'Umbreon VMAX', 'supertype': 'Pokémon', 'subtypes': ['VMAX', 'Single Strike'], 'hp': '310', 'types': ['Darkness'], 'evolvesFrom': 'Umbreon V', 'rules': ['VMAX rule: When your Pokémon VMAX is Knocked Out, your opponent takes 3 Prize cards.'], 'abilities': [{'name': 'Dark Signal', 'text': \"When you play this Pokémon from your hand to evolve 1 of your Pokémon during your turn, you may switch 1 of your opponent's Benched Pokémon with their Active Pokémon.\", 'type': 'Ability'}], 'attacks': [{'name': 'Max Darkness', 'cost': ['Darkness', 'Colorless', 'Colorless'], 'convertedEnergyCost': 3, 'damage': '160', 'text': ''}], 'weaknesses': [{'type': 'Grass', 'value': '×2'}], 'retreatCost': ['Colorless', 'Colorless'], 'convertedRetreatCost': 2, 'set': {'id': 'swsh7', 'name': 'Evolving Skies', 'series': 'Sword & Shield', 'printedTotal': 203, 'total': 237, 'legalities': {'unlimited': 'Legal', 'standard': 'Legal', 'expanded': 'Legal'}, 'ptcgoCode': 'EVS', 'releaseDate': '2021/08/27', 'updatedAt': '2021/08/27 10:17:00', 'images': {'symbol': 'https://images.pokemontcg.io/swsh7/symbol.png', 'logo': 'https://images.pokemontcg.io/swsh7/logo.png'}}, 'number': '95', 'artist': 'AKIRA EGAWA', 'rarity': 'Rare Holo VMAX', 'nationalPokedexNumbers': [197], 'legalities': {'unlimited': 'Legal', 'standard': 'Legal', 'expanded': 'Legal'}, 'regulationMark': 'E', 'images': {'small': 'https://images.pokemontcg.io/swsh7/95.png', 'large': 'https://images.pokemontcg.io/swsh7/95_hires.png'}, 'tcgplayer': {'url': 'https://prices.pokemontcg.io/tcgplayer/swsh7-95', 'updatedAt': '2025/02/01', 'prices': {'holofoil': {'low': 12.0, 'mid': 17.0, 'high': 89.0, 'market': 15.54, 'directLow': 19.49}}}, 'cardmarket': {'url': 'https://prices.pokemontcg.io/cardmarket/swsh7-95', 'updatedAt': '2025/02/01', 'prices': {'averageSellPrice': 10.5, 'lowPrice': 5.0, 'trendPrice': 12.04, 'germanProLow': 0.0, 'suggestedPrice': 0.0, 'reverseHoloSell': 0.0, 'reverseHoloLow': 0.0, 'reverseHoloTrend': 0.0, 'lowPriceExPlus': 7.99, 'avg1': 11.8, 'avg7': 11.51, 'avg30': 10.6, 'reverseHoloAvg1': 0.0, 'reverseHoloAvg7': 0.0, 'reverseHoloAvg30': 0.0}}}, {'id': 'swsh7-215', 'name': 'Umbreon VMAX', 'supertype': 'Pokémon', 'subtypes': ['VMAX', 'Single Strike'], 'hp': '310', 'types': ['Darkness'], 'evolvesFrom': 'Umbreon V', 'rules': ['VMAX rule: When your Pokémon VMAX is Knocked Out, your opponent takes 3 Prize cards.'], 'abilities': [{'name': 'Dark Signal', 'text': \"When you play this Pokémon from your hand to evolve 1 of your Pokémon during your turn, you may switch 1 of your opponent's Benched Pokémon with their Active Pokémon.\", 'type': 'Ability'}], 'attacks': [{'name': 'Max Darkness', 'cost': ['Darkness', 'Colorless', 'Colorless'], 'convertedEnergyCost': 3, 'damage': '160', 'text': ''}], 'weaknesses': [{'type': 'Grass', 'value': '×2'}], 'retreatCost': ['Colorless', 'Colorless'], 'convertedRetreatCost': 2, 'set': {'id': 'swsh7', 'name': 'Evolving Skies', 'series': 'Sword & Shield', 'printedTotal': 203, 'total': 237, 'legalities': {'unlimited': 'Legal', 'standard': 'Legal', 'expanded': 'Legal'}, 'ptcgoCode': 'EVS', 'releaseDate': '2021/08/27', 'updatedAt': '2021/08/27 10:17:00', 'images': {'symbol': 'https://images.pokemontcg.io/swsh7/symbol.png', 'logo': 'https://images.pokemontcg.io/swsh7/logo.png'}}, 'number': '215', 'artist': 'KEIICHIRO ITO', 'rarity': 'Rare Rainbow', 'nationalPokedexNumbers': [197], 'legalities': {'unlimited': 'Legal', 'standard': 'Legal', 'expanded': 'Legal'}, 'regulationMark': 'E', 'images': {'small': 'https://images.pokemontcg.io/swsh7/215.png', 'large': 'https://images.pokemontcg.io/swsh7/215_hires.png'}, 'tcgplayer': {'url': 'https://prices.pokemontcg.io/tcgplayer/swsh7-215', 'updatedAt': '2025/02/01', 'prices': {'holofoil': {'low': 790.99, 'mid': 1853.28, 'high': 2200.0, 'market': 1527.75, 'directLow': 1640.0}}}, 'cardmarket': {'url': 'https://prices.pokemontcg.io/cardmarket/swsh7-215', 'updatedAt': '2025/02/01', 'prices': {'averageSellPrice': 1270.44, 'lowPrice': 500.0, 'trendPrice': 1330.74, 'germanProLow': 0.0, 'suggestedPrice': 0.0, 'reverseHoloSell': 0.0, 'reverseHoloLow': 0.0, 'reverseHoloTrend': 0.0, 'lowPriceExPlus': 1100.0, 'avg1': 1287.49, 'avg7': 1336.27, 'avg30': 1246.41, 'reverseHoloAvg1': 0.0, 'reverseHoloAvg7': 0.0, 'reverseHoloAvg30': 0.0}}}, {'id': 'swsh7-188', 'name': 'Umbreon V', 'supertype': 'Pokémon', 'subtypes': ['Basic', 'V', 'Single Strike'], 'hp': '200', 'types': ['Darkness'], 'rules': ['V rule: When your Pokémon V is Knocked Out, your opponent takes 2 Prize cards.'], 'attacks': [{'name': 'Mean Look', 'cost': ['Darkness'], 'convertedEnergyCost': 1, 'damage': '30', 'text': \"During your opponent's next turn, the Defending Pokémon can't retreat.\"}, {'name': 'Moonlight Blade', 'cost': ['Darkness', 'Colorless', 'Colorless'], 'convertedEnergyCost': 3, 'damage': '80+', 'text': 'If this Pokémon has any damage counters on it, this attack does 80 more damage.'}], 'weaknesses': [{'type': 'Grass', 'value': '×2'}], 'retreatCost': ['Colorless', 'Colorless'], 'convertedRetreatCost': 2, 'set': {'id': 'swsh7', 'name': 'Evolving Skies', 'series': 'Sword & Shield', 'printedTotal': 203, 'total': 237, 'legalities': {'unlimited': 'Legal', 'standard': 'Legal', 'expanded': 'Legal'}, 'ptcgoCode': 'EVS', 'releaseDate': '2021/08/27', 'updatedAt': '2021/08/27 10:17:00', 'images': {'symbol': 'https://images.pokemontcg.io/swsh7/symbol.png', 'logo': 'https://images.pokemontcg.io/swsh7/logo.png'}}, 'number': '188', 'artist': '5ban Graphics', 'rarity': 'Rare Ultra', 'nationalPokedexNumbers': [197], 'legalities': {'unlimited': 'Legal', 'standard': 'Legal', 'expanded': 'Legal'}, 'regulationMark': 'E', 'images': {'small': 'https://images.pokemontcg.io/swsh7/188.png', 'large': 'https://images.pokemontcg.io/swsh7/188_hires.png'}, 'tcgplayer': {'url': 'https://prices.pokemontcg.io/tcgplayer/swsh7-188', 'updatedAt': '2025/02/01', 'prices': {'holofoil': {'low': 24.95, 'mid': 40.69, 'high': 74.99, 'market': 34.34, 'directLow': 41.94}}}, 'cardmarket': {'url': 'https://prices.pokemontcg.io/cardmarket/swsh7-188', 'updatedAt': '2025/02/01', 'prices': {'averageSellPrice': 34.65, 'lowPrice': 17.0, 'trendPrice': 37.49, 'germanProLow': 0.0, 'suggestedPrice': 0.0, 'reverseHoloSell': 0.0, 'reverseHoloLow': 0.0, 'reverseHoloTrend': 0.0, 'lowPriceExPlus': 23.99, 'avg1': 36.95, 'avg7': 37.58, 'avg30': 35.62, 'reverseHoloAvg1': 0.0, 'reverseHoloAvg7': 0.0, 'reverseHoloAvg30': 0.0}}}, {'id': 'swsh7-214', 'name': 'Umbreon VMAX', 'supertype': 'Pokémon', 'subtypes': ['VMAX', 'Single Strike'], 'hp': '310', 'types': ['Darkness'], 'evolvesFrom': 'Umbreon V', 'rules': ['VMAX rule: When your Pokémon VMAX is Knocked Out, your opponent takes 3 Prize cards.'], 'abilities': [{'name': 'Dark Signal', 'text': \"When you play this Pokémon from your hand to evolve 1 of your Pokémon during your turn, you may switch 1 of your opponent's Benched Pokémon with their Active Pokémon.\", 'type': 'Ability'}], 'attacks': [{'name': 'Max Darkness', 'cost': ['Darkness', 'Colorless', 'Colorless'], 'convertedEnergyCost': 3, 'damage': '160', 'text': ''}], 'weaknesses': [{'type': 'Grass', 'value': '×2'}], 'retreatCost': ['Colorless', 'Colorless'], 'convertedRetreatCost': 2, 'set': {'id': 'swsh7', 'name': 'Evolving Skies', 'series': 'Sword & Shield', 'printedTotal': 203, 'total': 237, 'legalities': {'unlimited': 'Legal', 'standard': 'Legal', 'expanded': 'Legal'}, 'ptcgoCode': 'EVS', 'releaseDate': '2021/08/27', 'updatedAt': '2021/08/27 10:17:00', 'images': {'symbol': 'https://images.pokemontcg.io/swsh7/symbol.png', 'logo': 'https://images.pokemontcg.io/swsh7/logo.png'}}, 'number': '214', 'artist': 'AKIRA EGAWA', 'rarity': 'Rare Rainbow', 'nationalPokedexNumbers': [197], 'legalities': {'unlimited': 'Legal', 'standard': 'Legal', 'expanded': 'Legal'}, 'regulationMark': 'E', 'images': {'small': 'https://images.pokemontcg.io/swsh7/214.png', 'large': 'https://images.pokemontcg.io/swsh7/214_hires.png'}, 'tcgplayer': {'url': 'https://prices.pokemontcg.io/tcgplayer/swsh7-214', 'updatedAt': '2025/02/01', 'prices': {'holofoil': {'low': 40.0, 'mid': 51.99, 'high': 179.0, 'market': 49.65, 'directLow': 99.5}}}, 'cardmarket': {'url': 'https://prices.pokemontcg.io/cardmarket/swsh7-214', 'updatedAt': '2025/02/01', 'prices': {'averageSellPrice': 47.03, 'lowPrice': 19.99, 'trendPrice': 48.83, 'germanProLow': 0.0, 'suggestedPrice': 0.0, 'reverseHoloSell': 0.0, 'reverseHoloLow': 0.0, 'reverseHoloTrend': 0.0, 'lowPriceExPlus': 33.0, 'avg1': 43.97, 'avg7': 44.57, 'avg30': 45.38, 'reverseHoloAvg1': 0.0, 'reverseHoloAvg7': 0.0, 'reverseHoloAvg30': 0.0}}}], 'page': 1, 'pageSize': 250, 'count': 6, 'totalCount': 6}\n"
     ]
    }
   ],
   "source": [
    "card_data_4 = api_card_data(api_format_4)\n",
    "print(card_data_4)"
   ]
  },
  {
   "cell_type": "markdown",
   "metadata": {
    "id": "PsY2WFfcNiSN"
   },
   "source": [
    "### 2.3. Función para estructurar y limpiar los datos de la API"
   ]
  },
  {
   "cell_type": "markdown",
   "metadata": {
    "id": "FFe-at0-N1Oa"
   },
   "source": [
    "Los datos obtenidos de la API son en formato diccionario JSON y la información es abundante y gran parte de ella es innecesaria. Esta gran cantidad de datos sólo confundiría al modelo de GPT-3.5-turbo encargado de responder la pregunta. Por ello, se diseña una función cuya finalidad es la de limpiar y estructurar correctamente los datos para el contexto del modelo."
   ]
  },
  {
   "cell_type": "code",
   "execution_count": null,
   "metadata": {
    "id": "mqBGdAWYNikR"
   },
   "outputs": [],
   "source": [
    "def context_format(card_data, max_chars=4000):\n",
    "    if 'data' not in card_data or not card_data['data']:\n",
    "        return \"No cards found.\"\n",
    "\n",
    "    context = \"\"\n",
    "    for i, card in enumerate(card_data['data'], start=1):\n",
    "        card_info = (\n",
    "            f\"Card {i}:\\n\"\n",
    "            f\"Name: {card.get('name', 'N/A')}\\n\"\n",
    "            f\"Subtypes: {', '.join(card.get('subtypes', []))}\\n\"\n",
    "            f\"Number: {card.get('number', 'N/A')}\\n\"\n",
    "            f\"Artist: {card.get('artist', 'N/A')}\\n\"\n",
    "            f\"Set Name: {card.get('set', {}).get('name', 'N/A')}\\n\"\n",
    "            f\"Set Series: {card.get('set', {}).get('series', 'N/A')}\\n\"\n",
    "            f\"Release Date: {card.get('set', {}).get('releaseDate', 'N/A')}\\n\"\n",
    "            f\"Large Image: {card.get('images', {}).get('large', 'N/A')}\\n\"\n",
    "            f\"Market Price TCGPlayer: ${card.get('tcgplayer', {}).get('prices', {}).get('holofoil', {}).get('market', 'N/A')}\\n\"\n",
    "            f\"TCGPlayer URL: {card.get('tcgplayer', {}).get('url', 'N/A')}\\n\"\n",
    "            f\"Market Price Cardmarket: {card.get('cardmarket', {}).get('prices', {}).get('avg7', 'N/A')}€\\n\"\n",
    "            f\"Cardmarket URL: {card.get('cardmarket', {}).get('url', 'N/A')}\\n\\n\"\n",
    "        )\n",
    "\n",
    "        if len(context) + len(card_info) > max_chars:\n",
    "            context += f\"\\nLimit reached. {len(card_data['data']) - i + 1} cards not included.\"\n",
    "            break\n",
    "\n",
    "        context += card_info\n",
    "\n",
    "    return context.strip()"
   ]
  },
  {
   "cell_type": "markdown",
   "metadata": {
    "id": "iJ9ly2JQqeGR"
   },
   "source": [
    "* Ejemplo 1"
   ]
  },
  {
   "cell_type": "code",
   "execution_count": null,
   "metadata": {
    "colab": {
     "base_uri": "https://localhost:8080/"
    },
    "id": "i6-lPRncqeN-",
    "outputId": "0049c0bb-f346-4546-b04c-b50f6b6e3038"
   },
   "outputs": [
    {
     "name": "stdout",
     "output_type": "stream",
     "text": [
      "Card 1:\n",
      "Name: Houndoom\n",
      "Subtypes: Stage 1\n",
      "Number: 8\n",
      "Artist: Mitsuhiro Arita\n",
      "Set Name: Neo Revelation\n",
      "Set Series: Neo\n",
      "Release Date: 2001/09/21\n",
      "Large Image: https://images.pokemontcg.io/neo3/8_hires.png\n",
      "Market Price TCGPlayer: $N/A\n",
      "TCGPlayer URL: https://prices.pokemontcg.io/tcgplayer/neo3-8\n",
      "Market Price Cardmarket: 48.03€\n",
      "Cardmarket URL: https://prices.pokemontcg.io/cardmarket/neo3-8\n"
     ]
    }
   ],
   "source": [
    "context_1 = context_format(card_data_1)\n",
    "print(context_1)"
   ]
  },
  {
   "cell_type": "markdown",
   "metadata": {
    "id": "sYyllxF5qeZO"
   },
   "source": [
    "* Ejemplo 2"
   ]
  },
  {
   "cell_type": "code",
   "execution_count": null,
   "metadata": {
    "colab": {
     "base_uri": "https://localhost:8080/"
    },
    "id": "sFfANtQxqefd",
    "outputId": "a58ffc2b-d7dc-4bf1-a589-33a8e7e2d07d"
   },
   "outputs": [
    {
     "name": "stdout",
     "output_type": "stream",
     "text": [
      "Card 1:\n",
      "Name: Celebi ex\n",
      "Subtypes: Basic, ex\n",
      "Number: 117\n",
      "Artist: Ryo Ueda\n",
      "Set Name: Unseen Forces\n",
      "Set Series: EX\n",
      "Release Date: 2005/08/01\n",
      "Large Image: https://images.pokemontcg.io/ex10/117_hires.png\n",
      "Market Price TCGPlayer: $399.99\n",
      "TCGPlayer URL: https://prices.pokemontcg.io/tcgplayer/ex10-117\n",
      "Market Price Cardmarket: 216.67€\n",
      "Cardmarket URL: https://prices.pokemontcg.io/cardmarket/ex10-117\n"
     ]
    }
   ],
   "source": [
    "context_2 = context_format(card_data_2)\n",
    "print(context_2)"
   ]
  },
  {
   "cell_type": "markdown",
   "metadata": {
    "id": "GlEUgQ6DqenG"
   },
   "source": [
    "* Ejemplo 3"
   ]
  },
  {
   "cell_type": "code",
   "execution_count": null,
   "metadata": {
    "colab": {
     "base_uri": "https://localhost:8080/"
    },
    "id": "rMEUIR8RqesH",
    "outputId": "d8ac4054-8168-43cd-ce6f-8675be582551"
   },
   "outputs": [
    {
     "name": "stdout",
     "output_type": "stream",
     "text": [
      "Card 1:\n",
      "Name: Charizard\n",
      "Subtypes: Stage 2\n",
      "Number: 4\n",
      "Artist: Mitsuhiro Arita\n",
      "Set Name: Base Set 2\n",
      "Set Series: Base\n",
      "Release Date: 2000/02/24\n",
      "Large Image: https://images.pokemontcg.io/base4/4_hires.png\n",
      "Market Price TCGPlayer: $292.83\n",
      "TCGPlayer URL: https://prices.pokemontcg.io/tcgplayer/base4-4\n",
      "Market Price Cardmarket: 218.28€\n",
      "Cardmarket URL: https://prices.pokemontcg.io/cardmarket/base4-4\n",
      "\n",
      "Card 2:\n",
      "Name: Charizard\n",
      "Subtypes: Stage 2\n",
      "Number: 4\n",
      "Artist: Mitsuhiro Arita\n",
      "Set Name: Base\n",
      "Set Series: Base\n",
      "Release Date: 1999/01/09\n",
      "Large Image: https://images.pokemontcg.io/base1/4_hires.png\n",
      "Market Price TCGPlayer: $412.86\n",
      "TCGPlayer URL: https://prices.pokemontcg.io/tcgplayer/base1-4\n",
      "Market Price Cardmarket: 1631.43€\n",
      "Cardmarket URL: https://prices.pokemontcg.io/cardmarket/base1-4\n",
      "\n",
      "Card 3:\n",
      "Name: Charizard\n",
      "Subtypes: Stage 2\n",
      "Number: 6\n",
      "Artist: Hiromichi Sugiyama\n",
      "Set Name: Expedition Base Set\n",
      "Set Series: E-Card\n",
      "Release Date: 2002/09/15\n",
      "Large Image: https://images.pokemontcg.io/ecard1/6_hires.png\n",
      "Market Price TCGPlayer: $789.95\n",
      "TCGPlayer URL: https://prices.pokemontcg.io/tcgplayer/ecard1-6\n",
      "Market Price Cardmarket: 283.14€\n",
      "Cardmarket URL: https://prices.pokemontcg.io/cardmarket/ecard1-6\n",
      "\n",
      "Card 4:\n",
      "Name: Charizard\n",
      "Subtypes: Stage 2\n",
      "Number: 39\n",
      "Artist: Atsuko Nishida\n",
      "Set Name: Expedition Base Set\n",
      "Set Series: E-Card\n",
      "Release Date: 2002/09/15\n",
      "Large Image: https://images.pokemontcg.io/ecard1/39_hires.png\n",
      "Market Price TCGPlayer: $N/A\n",
      "TCGPlayer URL: https://prices.pokemontcg.io/tcgplayer/ecard1-39\n",
      "Market Price Cardmarket: 29.69€\n",
      "Cardmarket URL: https://prices.pokemontcg.io/cardmarket/ecard1-39\n",
      "\n",
      "Card 5:\n",
      "Name: Charizard\n",
      "Subtypes: Stage 2\n",
      "Number: 40\n",
      "Artist: Hiromichi Sugiyama\n",
      "Set Name: Expedition Base Set\n",
      "Set Series: E-Card\n",
      "Release Date: 2002/09/15\n",
      "Large Image: https://images.pokemontcg.io/ecard1/40_hires.png\n",
      "Market Price TCGPlayer: $N/A\n",
      "TCGPlayer URL: https://prices.pokemontcg.io/tcgplayer/ecard1-40\n",
      "Market Price Cardmarket: 24.44€\n",
      "Cardmarket URL: https://prices.pokemontcg.io/cardmarket/ecard1-40\n"
     ]
    }
   ],
   "source": [
    "context_3 = context_format(card_data_3)\n",
    "print(context_3)"
   ]
  },
  {
   "cell_type": "code",
   "execution_count": null,
   "metadata": {
    "colab": {
     "base_uri": "https://localhost:8080/"
    },
    "id": "CYRgUF1cr7M8",
    "outputId": "795e17c5-91e3-44ad-bea9-d25ae90c5f41"
   },
   "outputs": [
    {
     "name": "stdout",
     "output_type": "stream",
     "text": [
      "Card 1:\n",
      "Name: Umbreon V\n",
      "Subtypes: Basic, V, Single Strike\n",
      "Number: 94\n",
      "Artist: 5ban Graphics\n",
      "Set Name: Evolving Skies\n",
      "Set Series: Sword & Shield\n",
      "Release Date: 2021/08/27\n",
      "Large Image: https://images.pokemontcg.io/swsh7/94_hires.png\n",
      "Market Price TCGPlayer: $2.76\n",
      "TCGPlayer URL: https://prices.pokemontcg.io/tcgplayer/swsh7-94\n",
      "Market Price Cardmarket: 3.75€\n",
      "Cardmarket URL: https://prices.pokemontcg.io/cardmarket/swsh7-94\n",
      "\n",
      "Card 2:\n",
      "Name: Umbreon V\n",
      "Subtypes: Basic, V, Single Strike\n",
      "Number: 189\n",
      "Artist: Teeziro\n",
      "Set Name: Evolving Skies\n",
      "Set Series: Sword & Shield\n",
      "Release Date: 2021/08/27\n",
      "Large Image: https://images.pokemontcg.io/swsh7/189_hires.png\n",
      "Market Price TCGPlayer: $247.84\n",
      "TCGPlayer URL: https://prices.pokemontcg.io/tcgplayer/swsh7-189\n",
      "Market Price Cardmarket: 212.91€\n",
      "Cardmarket URL: https://prices.pokemontcg.io/cardmarket/swsh7-189\n",
      "\n",
      "Card 3:\n",
      "Name: Umbreon VMAX\n",
      "Subtypes: VMAX, Single Strike\n",
      "Number: 95\n",
      "Artist: AKIRA EGAWA\n",
      "Set Name: Evolving Skies\n",
      "Set Series: Sword & Shield\n",
      "Release Date: 2021/08/27\n",
      "Large Image: https://images.pokemontcg.io/swsh7/95_hires.png\n",
      "Market Price TCGPlayer: $15.54\n",
      "TCGPlayer URL: https://prices.pokemontcg.io/tcgplayer/swsh7-95\n",
      "Market Price Cardmarket: 11.51€\n",
      "Cardmarket URL: https://prices.pokemontcg.io/cardmarket/swsh7-95\n",
      "\n",
      "Card 4:\n",
      "Name: Umbreon VMAX\n",
      "Subtypes: VMAX, Single Strike\n",
      "Number: 215\n",
      "Artist: KEIICHIRO ITO\n",
      "Set Name: Evolving Skies\n",
      "Set Series: Sword & Shield\n",
      "Release Date: 2021/08/27\n",
      "Large Image: https://images.pokemontcg.io/swsh7/215_hires.png\n",
      "Market Price TCGPlayer: $1527.75\n",
      "TCGPlayer URL: https://prices.pokemontcg.io/tcgplayer/swsh7-215\n",
      "Market Price Cardmarket: 1336.27€\n",
      "Cardmarket URL: https://prices.pokemontcg.io/cardmarket/swsh7-215\n",
      "\n",
      "Card 5:\n",
      "Name: Umbreon V\n",
      "Subtypes: Basic, V, Single Strike\n",
      "Number: 188\n",
      "Artist: 5ban Graphics\n",
      "Set Name: Evolving Skies\n",
      "Set Series: Sword & Shield\n",
      "Release Date: 2021/08/27\n",
      "Large Image: https://images.pokemontcg.io/swsh7/188_hires.png\n",
      "Market Price TCGPlayer: $34.34\n",
      "TCGPlayer URL: https://prices.pokemontcg.io/tcgplayer/swsh7-188\n",
      "Market Price Cardmarket: 37.58€\n",
      "Cardmarket URL: https://prices.pokemontcg.io/cardmarket/swsh7-188\n",
      "\n",
      "Card 6:\n",
      "Name: Umbreon VMAX\n",
      "Subtypes: VMAX, Single Strike\n",
      "Number: 214\n",
      "Artist: AKIRA EGAWA\n",
      "Set Name: Evolving Skies\n",
      "Set Series: Sword & Shield\n",
      "Release Date: 2021/08/27\n",
      "Large Image: https://images.pokemontcg.io/swsh7/214_hires.png\n",
      "Market Price TCGPlayer: $49.65\n",
      "TCGPlayer URL: https://prices.pokemontcg.io/tcgplayer/swsh7-214\n",
      "Market Price Cardmarket: 44.57€\n",
      "Cardmarket URL: https://prices.pokemontcg.io/cardmarket/swsh7-214\n"
     ]
    }
   ],
   "source": [
    "context_4 = context_format(card_data_4)\n",
    "print(context_4)"
   ]
  },
  {
   "cell_type": "markdown",
   "metadata": {
    "id": "nGvOc8-Ra6Cr"
   },
   "source": [
    "### 2.4. RAG"
   ]
  },
  {
   "cell_type": "markdown",
   "metadata": {
    "id": "JYDzbpINqo-F"
   },
   "source": [
    "A continuación, aplicamos Retrieval Augmented Generation, tomando los datos de la API para alimentar el contexto del modelo seleccionado y así poder contestar a la pregunta con mayor precisión."
   ]
  },
  {
   "cell_type": "markdown",
   "metadata": {
    "id": "A4qs8IWxbZ75"
   },
   "source": [
    "En primer lugar, se seleccionó un modelo especializado en question-answer, concretamente el \"distilbert-base-uncased-distilled-squad\". No obstante, debido a su mal rendimiento y escaso entendimiento del contexto, de nuevo se tuvo que optar por un modelo más potente como es el \"GPT-3.5-turbo\"."
   ]
  },
  {
   "cell_type": "code",
   "execution_count": null,
   "metadata": {
    "id": "Uzg3wO_F2Zqt"
   },
   "outputs": [],
   "source": [
    "def answer_question(context,question, model=\"gpt-3.5-turbo\", temperature = 0):\n",
    "\n",
    "    prompt_template = \"\"\"\n",
    "    You are a Pokémon TCG expert. You must answer the given question and extract the information ONLY from the given context. If you cannot answer the question with the context, please respond with 'I don't know'.\n",
    "\n",
    "    ### Context:\n",
    "    {context}\n",
    "\n",
    "    ### Question:\n",
    "    {question}\n",
    "\n",
    "    ### Answer:\n",
    "    \"\"\"\n",
    "    prompt = prompt_template.format(question=question, context=context)\n",
    "    messages = [{\"role\": \"user\", \"content\": prompt}]\n",
    "    response = client.chat.completions.create(\n",
    "        model=model,\n",
    "        messages=messages,\n",
    "        temperature=temperature,\n",
    "    )\n",
    "    return response.choices[0].message.content"
   ]
  },
  {
   "cell_type": "markdown",
   "metadata": {
    "id": "BQRgbBQfuZ1O"
   },
   "source": [
    "* Ejemplo 1"
   ]
  },
  {
   "cell_type": "code",
   "execution_count": null,
   "metadata": {
    "colab": {
     "base_uri": "https://localhost:8080/"
    },
    "id": "QOqs7pL3sKav",
    "outputId": "631a0fe3-739b-468d-c69f-061ed25a9da4"
   },
   "outputs": [
    {
     "name": "stdout",
     "output_type": "stream",
     "text": [
      "Mitsuhiro Arita\n"
     ]
    }
   ],
   "source": [
    "answer_1 = answer_question(context_1, question_1)\n",
    "print(answer_1)"
   ]
  },
  {
   "cell_type": "markdown",
   "metadata": {
    "id": "Hs-2eejdudjp"
   },
   "source": [
    "* Ejemplo 2"
   ]
  },
  {
   "cell_type": "code",
   "execution_count": null,
   "metadata": {
    "colab": {
     "base_uri": "https://localhost:8080/"
    },
    "id": "P5UAFpDWudrg",
    "outputId": "8d3c2b8c-a54b-4703-e902-c193eb0aeaea"
   },
   "outputs": [
    {
     "name": "stdout",
     "output_type": "stream",
     "text": [
      "The market price for the Unseen Forces Celebi is $399.99 on TCGPlayer and 216.67€ on Cardmarket.\n"
     ]
    }
   ],
   "source": [
    "answer_2 = answer_question(context_2, question_2)\n",
    "print(answer_2)"
   ]
  },
  {
   "cell_type": "markdown",
   "metadata": {
    "id": "RHnZKVzuud29"
   },
   "source": [
    "* Ejemplo 3"
   ]
  },
  {
   "cell_type": "code",
   "execution_count": null,
   "metadata": {
    "colab": {
     "base_uri": "https://localhost:8080/"
    },
    "id": "WHQPSbiUueCF",
    "outputId": "b5caaceb-0871-421c-9559-26c46432d73e"
   },
   "outputs": [
    {
     "name": "stdout",
     "output_type": "stream",
     "text": [
      "The Charizard from the Base Set was released on 1999/01/09.\n"
     ]
    }
   ],
   "source": [
    "answer_3 = answer_question(context_3, question_3)\n",
    "print(answer_3)"
   ]
  },
  {
   "cell_type": "markdown",
   "metadata": {
    "id": "kS8inzHougz9"
   },
   "source": [
    "* Ejemplo 4"
   ]
  },
  {
   "cell_type": "code",
   "execution_count": null,
   "metadata": {
    "colab": {
     "base_uri": "https://localhost:8080/"
    },
    "id": "BtZBDeF6sPTz",
    "outputId": "3c42008b-b6f7-47c9-be7b-801510430057"
   },
   "outputs": [
    {
     "name": "stdout",
     "output_type": "stream",
     "text": [
      "The prices in the US market of the different Umbreons from Evolving Skies, ordered from cheapest to most expensive, are as follows:\n",
      "1. Umbreon V - $2.76\n",
      "2. Umbreon V - $34.34\n",
      "3. Umbreon VMAX - $15.54\n",
      "4. Umbreon VMAX - $49.65\n",
      "5. Umbreon VMAX - $1527.75\n"
     ]
    }
   ],
   "source": [
    "answer_4 = answer_question(context_4, question_4)\n",
    "print(answer_4)"
   ]
  },
  {
   "cell_type": "markdown",
   "metadata": {
    "id": "2LgVkMcOc397"
   },
   "source": [
    "## 3. PIPELINE\n"
   ]
  },
  {
   "cell_type": "code",
   "execution_count": null,
   "metadata": {
    "id": "NpnIgAMeKxmu"
   },
   "outputs": [],
   "source": [
    "def main(question):\n",
    "\n",
    "    # 1. Procesar la entrada al formato adecuado para la API\n",
    "    query_json = input_format(question)\n",
    "    query = api_format(query_json)\n",
    "\n",
    "    # 2. Llamar a la API para obtener la información solicitada\n",
    "    card_data = api_card_data(query)\n",
    "\n",
    "    # 3. Estructurar y filtrar el contexto\n",
    "    context = context_format(card_data)\n",
    "\n",
    "    # 4. Generar una respuesta con el modelo QA usando RAG\n",
    "    answer = answer_question(context, question)\n",
    "\n",
    "    # 5. Mostrar la salida\n",
    "    print(answer)\n",
    "\n",
    "#if __name__ == \"__main__\":\n",
    "#    main()"
   ]
  },
  {
   "cell_type": "markdown",
   "metadata": {
    "id": "VTxtqwLGpuwI"
   },
   "source": [
    "## 4. PoC\n"
   ]
  },
  {
   "cell_type": "markdown",
   "metadata": {
    "id": "hqlXVLRRp9UT"
   },
   "source": [
    "Para comprobar el correcto funcionamiento del modelo, se va a realizar una prueba de concepto con diferentes preguntas de entrada y verificar sus respuestas."
   ]
  },
  {
   "cell_type": "code",
   "execution_count": null,
   "metadata": {
    "colab": {
     "base_uri": "https://localhost:8080/"
    },
    "id": "FUexn99opsKO",
    "outputId": "11d902e2-f3fa-4a10-ca00-250fdc21cc85"
   },
   "outputs": [
    {
     "name": "stdout",
     "output_type": "stream",
     "text": [
      "$21.51 for Charizard, $16.87 for Charizard-EX, $64.9 for M Charizard-EX\n"
     ]
    }
   ],
   "source": [
    "question1 = \"What is the price in US market of the different charizards from generations? Please order them from cheapest to most expensive\"\n",
    "answer1 = main(question1)\n",
    "answer1"
   ]
  },
  {
   "cell_type": "code",
   "execution_count": null,
   "metadata": {
    "colab": {
     "base_uri": "https://localhost:8080/"
    },
    "id": "_B7tHAyqqtWj",
    "outputId": "63cc8686-08a3-456f-c053-1c33d4a1e644"
   },
   "outputs": [
    {
     "name": "stdout",
     "output_type": "stream",
     "text": [
      "The Lugia from Neo Genesis was designed by Hironobu Yoshida. You can view a photo of the card here: [Lugia from Neo Genesis](https://images.pokemontcg.io/neo1/9_hires.png)\n"
     ]
    }
   ],
   "source": [
    "question2 = \"who designed the lugia from neo genesis? show me a photo\"\n",
    "answer2 = main(question2)\n",
    "answer2"
   ]
  },
  {
   "cell_type": "code",
   "execution_count": null,
   "metadata": {
    "colab": {
     "base_uri": "https://localhost:8080/"
    },
    "id": "m_yzb6MG4xzk",
    "outputId": "46817a8d-b485-4ddb-c5f0-7a7aee502112"
   },
   "outputs": [
    {
     "name": "stdout",
     "output_type": "stream",
     "text": [
      "The Rayquaza from Dragons Exalted was released on 2012/08/15.\n"
     ]
    }
   ],
   "source": [
    "question3 = \"when was released the rayquaza from dragons exalted?\"\n",
    "answer3 = main(question3)\n",
    "answer3"
   ]
  },
  {
   "cell_type": "code",
   "execution_count": null,
   "metadata": {
    "colab": {
     "base_uri": "https://localhost:8080/"
    },
    "id": "n7vMJX7XVBYa",
    "outputId": "a2c037d7-753b-4984-d517-ba61647d5cfd"
   },
   "outputs": [
    {
     "name": "stdout",
     "output_type": "stream",
     "text": [
      "![Gengar VMAX](https://images.pokemontcg.io/swsh8/271_hires.png)\n"
     ]
    }
   ],
   "source": [
    "question4 = \"Show me a photo of the most expensive Gengar in fusion strike\"\n",
    "answer4 = main(question4)\n",
    "answer4"
   ]
  },
  {
   "cell_type": "code",
   "execution_count": null,
   "metadata": {
    "colab": {
     "base_uri": "https://localhost:8080/"
    },
    "id": "vOw0iAY-VPGJ",
    "outputId": "61d438bb-c869-4312-8153-c9a52b8350b6"
   },
   "outputs": [
    {
     "name": "stdout",
     "output_type": "stream",
     "text": [
      "Yes, there is a Giratina designed by Shinji Kanda. You can see a photo of it by clicking on this link: [Giratina V](https://images.pokemontcg.io/swsh11/186_hires.png)\n"
     ]
    }
   ],
   "source": [
    "question5 = \"Is there any giratina designed by shinji kanda? can you show me a photo?\"\n",
    "answer5 = main(question5)\n",
    "answer5"
   ]
  },
  {
   "cell_type": "code",
   "execution_count": null,
   "metadata": {
    "colab": {
     "base_uri": "https://localhost:8080/"
    },
    "id": "bHxHu_GyZ-c-",
    "outputId": "b1347fd4-3a04-433b-9892-fad556dc6176"
   },
   "outputs": [
    {
     "name": "stdout",
     "output_type": "stream",
     "text": [
      "The most expensive Lugia from Silver Tempest in euros is Card 5: Lugia V with a market price of 300.15€ on Cardmarket.\n"
     ]
    }
   ],
   "source": [
    "question6 = \"whats the most expensive lugia from silver tempest in euros?\"\n",
    "answer6 = main(question6)\n",
    "answer6"
   ]
  },
  {
   "cell_type": "markdown",
   "metadata": {
    "id": "VMbrIyCU8KGw"
   },
   "source": [
    "Los resultados obtenidos del modelo son más que aceptables, cumple perfectamente su función y el objetivo para el que fue diseñado. El primer modelo demuestra ser perfectamente capaz de reconocer las palabras clave de la pregunta y formatearlas para la llamada a la API. Y el segundo modelo también demuestra comprender a la perfección las preguntas realizadas y contestarlas en consecuencia."
   ]
  },
  {
   "cell_type": "markdown",
   "metadata": {
    "id": "zJXIBzZD_x_j"
   },
   "source": [
    "No obstante, a pesar de cumplir el objetivo buscado, el modelo no es perfecto. Una característica importante a mejorar sería la capacidad de comparar varios resultados, ya que en el modelo actual sólo se puede llamar a la API una vez por pregunta, y debido a la estructura de la API, es imposible comparar dos cartas de diferente nombre, set o ilustrador, lo cual sería muy interesante."
   ]
  },
  {
   "cell_type": "code",
   "execution_count": null,
   "metadata": {
    "colab": {
     "base_uri": "https://localhost:8080/"
    },
    "id": "pXLYe7H0AoRz",
    "outputId": "67262f88-247c-438c-fac7-362dc3d5a691"
   },
   "outputs": [
    {
     "name": "stdout",
     "output_type": "stream",
     "text": [
      "I don't know.\n"
     ]
    }
   ],
   "source": [
    "question7 = \"which one is more expensive the charizard ex 199 or the tyranitar from unseen forces?\"\n",
    "answer7 = main(question7)\n",
    "answer7"
   ]
  },
  {
   "cell_type": "markdown",
   "metadata": {
    "id": "0XfTchezBBxL"
   },
   "source": [
    "Otra posible característica a mejorar sería añadir una memoria al modelo, ya que esta capacidad también permitiría comparar nuevas búsquedas con búsquedas anteriores."
   ]
  },
  {
   "cell_type": "markdown",
   "metadata": {
    "id": "vAaoxDLFB89K"
   },
   "source": [
    "En definitiva, el modelo tiene muchos puntos a mejorar, pero con las herramientas y el tiempo del que se dispone, se ha obtenido un modelo perfectamente funcional y que cumple su objetivo principal: facilitar la búsqueda de información sobre cartas de Pokémon TCG."
   ]
  },
  {
   "cell_type": "markdown",
   "metadata": {
    "id": "VgJS2yAtfhRC"
   },
   "source": [
    "A continuación, en el siguiente documento se lleva a cabo el despliegue del modelo en Streamlit para facilitar el uso y la aplicación del modelo."
   ]
  },
  {
   "cell_type": "code",
   "execution_count": null,
   "metadata": {
    "id": "52xPTDzhf24m"
   },
   "outputs": [],
   "source": []
  }
 ],
 "metadata": {
  "colab": {
   "provenance": []
  },
  "kernelspec": {
   "display_name": "Python 3",
   "name": "python3"
  },
  "language_info": {
   "name": "python"
  }
 },
 "nbformat": 4,
 "nbformat_minor": 0
}
